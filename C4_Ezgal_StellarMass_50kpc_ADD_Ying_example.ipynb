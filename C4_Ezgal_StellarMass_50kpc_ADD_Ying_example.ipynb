{
 "cells": [
  {
   "cell_type": "code",
   "execution_count": 7,
   "metadata": {},
   "outputs": [],
   "source": [
    "import sys\n",
    "import numpy as np\n",
    "from matplotlib import pyplot as plt\n",
    "import scipy.optimize as opt\n",
    "from scipy.stats import norm\n",
    "#import triangle\n",
    "from IPython.display import display, Math, Latex\n",
    "%matplotlib inline\n",
    "from matplotlib.ticker import ScalarFormatter, FormatStrFormatter\n",
    "#from __future__ import print_function\n",
    "import pymc\n",
    "from pymc import AdaptiveMetropolis \n",
    "import random\n",
    "\n",
    "\n"
   ]
  },
  {
   "cell_type": "code",
   "execution_count": 8,
   "metadata": {},
   "outputs": [],
   "source": [
    "import ezgal\n",
    "import emcee"
   ]
  },
  {
   "cell_type": "code",
   "execution_count": 9,
   "metadata": {},
   "outputs": [],
   "source": [
    "ID, G_50, R_50, I_50, Gerr, Rerr, Ierr, R4, redshift=np.loadtxt('SDSS_C4_50kpc_ADD_Feb28_all.txt',unpack=True)\n",
    "# This is just the SDSS ID number, g-,r-,i-band photometry, then the g-,r-,i-band uncertainty, then the 4th brightest (not needed) and the photometric redshift"
   ]
  },
  {
   "cell_type": "code",
   "execution_count": null,
   "metadata": {},
   "outputs": [],
   "source": []
  },
  {
   "cell_type": "code",
   "execution_count": 10,
   "metadata": {},
   "outputs": [],
   "source": [
    "import astropy.cosmology\n",
    "from astropy.cosmology import FlatLambdaCDM\n",
    "import astropy.units as u\n",
    "cosmo=FlatLambdaCDM(H0=70*u.km/u.s/u.Mpc, Om0=0.3)\n",
    "\n",
    "distance_C4_pc_M14=(cosmo.luminosity_distance(redshift).value)*10**6\n",
    "\n",
    "absolute_R_50 = R_50- 5.*np.log10(distance_C4_pc_M14/10.)\n",
    "\n",
    "#This is just an exmaple for the estimate of the R-band absolute magnitude, which i use as the normalization parameter"
   ]
  },
  {
   "cell_type": "code",
   "execution_count": 11,
   "metadata": {},
   "outputs": [],
   "source": [
    "import ezgal\n",
    "\n",
    "met = [0.008]\n",
    "\n",
    "formation = 4.9\n",
    "\n",
    "model=ezgal.ezgal('bc03_ssp_z_0.008_salp.model')\n",
    "model.set_cosmology(Om=0.3, Ol=0.7, h=0.7, w=-1)\n",
    "model.add_filter('sloan_g')\n",
    "model.add_filter('sloan_r')\n",
    "model.add_filter('sloan_i')\n",
    "zf=formation\n",
    "\n",
    "\n",
    "# These are the parameter estimates for cosmology, the sps model, the metallicity, the imf\n",
    "# They can all be changed\n"
   ]
  },
  {
   "cell_type": "code",
   "execution_count": 12,
   "metadata": {},
   "outputs": [],
   "source": [
    "array=np.zeros([len(redshift),8])\n",
    "for i in range(len(redshift)):\n",
    "    array[i,0]=redshift[i]\n",
    "    array[i,1]=G_50[i]\n",
    "    array[i,2]=R_50[i]\n",
    "    array[i,3]=I_50[i]\n",
    "    array[i,4]=Gerr[i]\n",
    "    array[i,5]=Rerr[i]\n",
    "    array[i,6]=Ierr[i]\n",
    "    array[i,7]=absolute_R_50[i]\n",
    "\n",
    "\n",
    "# This is the array that I feed into the MCMC model that I use.  You need redshift, magnitudes, uncertainty, and the estimate for the normalization    "
   ]
  },
  {
   "cell_type": "code",
   "execution_count": 13,
   "metadata": {},
   "outputs": [
    {
     "name": "stdout",
     "output_type": "stream",
     "text": [
      "285\n"
     ]
    }
   ],
   "source": [
    "print len(redshift)\n",
    "Absolute_Ezgal_R_Salp=np.zeros(len(redshift))\n",
    "Uncertainty_Salp=np.zeros(len(redshift))\n",
    "\n",
    "# This is the output\n"
   ]
  },
  {
   "cell_type": "code",
   "execution_count": 14,
   "metadata": {},
   "outputs": [
    {
     "name": "stdout",
     "output_type": "stream",
     "text": [
      "8 CPUs\n"
     ]
    }
   ],
   "source": [
    "from multiprocessing import cpu_count\n",
    "ncpu = cpu_count()\n",
    "print(\"{0} CPUs\".format(ncpu))\n",
    "\n",
    "from multiprocessing import Pool\n",
    "\n",
    "# THis is so it can run on multiple cores"
   ]
  },
  {
   "cell_type": "code",
   "execution_count": 15,
   "metadata": {},
   "outputs": [
    {
     "name": "stdout",
     "output_type": "stream",
     "text": [
      "284\n"
     ]
    }
   ],
   "source": [
    "print i"
   ]
  },
  {
   "cell_type": "code",
   "execution_count": 16,
   "metadata": {},
   "outputs": [
    {
     "name": "stdout",
     "output_type": "stream",
     "text": [
      "0\n"
     ]
    },
    {
     "name": "stderr",
     "output_type": "stream",
     "text": [
      "ezgal/cosmology.py:149: RuntimeWarning: divide by zero encountered in log10\n",
      "  return 5. * num.log10(self.Dl(z) / self.pc / 10)\n",
      "ezgal/cosmology.py:149: RuntimeWarning: divide by zero encountered in log10\n",
      "  return 5. * num.log10(self.Dl(z) / self.pc / 10)\n",
      "ezgal/cosmology.py:149: RuntimeWarning: divide by zero encountered in log10\n",
      "  return 5. * num.log10(self.Dl(z) / self.pc / 10)\n",
      "ezgal/cosmology.py:149: RuntimeWarning: divide by zero encountered in log10\n",
      "  return 5. * num.log10(self.Dl(z) / self.pc / 10)\n",
      "ezgal/cosmology.py:149: RuntimeWarning: divide by zero encountered in log10\n",
      "  return 5. * num.log10(self.Dl(z) / self.pc / 10)\n",
      "ezgal/cosmology.py:149: RuntimeWarning: divide by zero encountered in log10\n",
      "  return 5. * num.log10(self.Dl(z) / self.pc / 10)\n",
      "ezgal/cosmology.py:149: RuntimeWarning: divide by zero encountered in log10\n",
      "  return 5. * num.log10(self.Dl(z) / self.pc / 10)\n"
     ]
    },
    {
     "name": "stdout",
     "output_type": "stream",
     "text": [
      "CPU times: user 5.54 s, sys: 545 ms, total: 6.09 s\n",
      "Wall time: 17 s\n",
      "done\n",
      "-23.06329605442859\n"
     ]
    },
    {
     "data": {
      "image/png": "[encoded data removed]",
      "text/plain": [
       "<Figure size 432x288 with 1 Axes>"
      ]
     },
     "metadata": {
      "needs_background": "light"
     },
     "output_type": "display_data"
    }
   ],
   "source": [
    "for i in range(0,1):\n",
    "    print i\n",
    "    # This is the priors that I use for each of the search parameters for the Absolute magnitude (1.5 can be expanded)\n",
    "    def log_prior(theta,zs,Gobs,Robs,Iobs,Gerr,Rerr,Ierr,Rabs):\n",
    "        alpha = theta[0]\n",
    "        if alpha < Rabs-1.5:\n",
    "            return -np.inf  # log(0)\n",
    "        if alpha > Rabs+1.5:\n",
    "            return -np.inf\n",
    "        else:\n",
    "            return 0.0\n",
    "    \n",
    "\n",
    "    def log_likelihood(theta,zs,Gobs,Robs,Iobs,Gerr,Rerr,Ierr,Rabs):\n",
    "        alpha=theta[0]\n",
    "        model.set_normalization('sloan_r',zs,alpha)\n",
    "        Gezgal,Rezgal,Iezgal=(zs,model.get_apparent_mags(zf=formation,filters=['des_g','des_r','des_i'],zs=zs))[1][0]\n",
    "\n",
    "        return -1.0*(((Gobs-Gezgal)/Gerr)**2 + ((Robs-Rezgal)/Rerr)**2 + ((Iobs-Iezgal)/Ierr)**2)\n",
    "    \n",
    "    # The log-likelihood does the chi-squared minimization to determine which absolute magnitude gives the best fit\n",
    "    # when you're runnign the model, you can add things to it like dust extinction and k-correction\n",
    "    def log_posterior(theta,zs,Gobs,Robs,Iobs,Gerr,Rerr,Ierr,Rabs):\n",
    "        return log_prior(theta,zs,Gobs,Robs,Iobs,Gerr,Rerr,Ierr,Rabs) + log_likelihood(theta,zs,Gobs,Robs,Iobs,Gerr,Rerr,Ierr,Rabs)\n",
    "\n",
    "    ndim = 1  # number of parameters in the model\n",
    "    nwalkers = 50  # number of MCMC walkers\n",
    "    nburn = 500  # \"burn-in\" period to let chains stabilize\n",
    "    nsteps = 1500  # number of MCMC steps to take\n",
    "\n",
    "    # set theta near the maximum likelihood, with \n",
    "    np.random.seed(0)\n",
    "    starting_guesses = np.random.uniform(absolute_R_50[i]-10.*Rerr[i],absolute_R_50[i]+10.*Rerr[i],(50,1))\n",
    "\n",
    "    pool = Pool(processes=7)\n",
    "    # I usually set processes to 1 less than the max so my computer doesn't overload\n",
    "    sampler = emcee.EnsembleSampler(nwalkers, ndim, log_posterior, args=array[i],pool=pool)\n",
    "    %time sampler.run_mcmc(starting_guesses, nsteps)\n",
    "    print(\"done\")\n",
    "    pool.close()\n",
    "    from scipy.optimize import curve_fit\n",
    "    n,bins,patches=plt.hist(sampler.flatchain,bins=np.linspace(np.median(sampler.flatchain)-20.*Rerr[i],np.median(sampler.flatchain)+20.*Rerr[i],2000))\n",
    "#    n,bins,patches=plt.hist(sampler.flatchain,bins=1000)\n",
    "    \n",
    "    bins2=[]\n",
    "    for j in range(0,len(bins)-1):\n",
    "        bins2.append((bins[j]+bins[j+1])/2.)\n",
    "    bins2=np.array(bins2)\n",
    "\n",
    "    def gauss_function(x, a, x0, sigma):\n",
    "        return a*np.exp(-(x-x0)**2./(2.*sigma**2.))\n",
    "    popt, pcov = curve_fit(gauss_function, bins2, n, p0 = [1, np.median(sampler.flatchain), np.sqrt(np.var(sampler.flatchain))])\n",
    "    plt.plot(bins2, gauss_function(bins2, *popt), label='fit')\n",
    "\n",
    "    plt.axvline(popt[1],color='red')\n",
    "    plt.axvline(popt[1]+popt[2],color='red')\n",
    "    plt.axvline(popt[1]-popt[2],color='red')\n",
    "    plt.xlim(popt[1]-5.*popt[2],popt[1]+5.*popt[2])\n",
    "    print popt[1]\n",
    "    \n",
    "    plt.axvline(absolute_R_50[i],color='green')\n",
    "    plt.show()\n",
    "    \n",
    "    # This is just an example plot (not necessary) to see how the fitting does\n",
    "    Absolute_Ezgal_R_Salp[i]=popt[1]\n",
    "    Uncertainty_Salp[i]=popt[2]\n",
    "\n"
   ]
  },
  {
   "cell_type": "code",
   "execution_count": null,
   "metadata": {},
   "outputs": [],
   "source": []
  },
  {
   "cell_type": "code",
   "execution_count": 21,
   "metadata": {},
   "outputs": [],
   "source": [
    "f=open('All_C4_ID_LumEzgal_Uncertainty_Salp_point008_all_ADD50_Feb28.txt','w')\n",
    "for i in range(len(Uncertainty_Salp)):\n",
    "    if Absolute_Ezgal_R_Salp[i] != 0.0:\n",
    "        f.write(str(ID[i])+\" \"+str(Absolute_Ezgal_R_Salp[i])+\" \"+str(np.abs(Uncertainty_Salp[i]))+\"\\n\")"
   ]
  },
  {
   "cell_type": "code",
   "execution_count": 126,
   "metadata": {},
   "outputs": [],
   "source": [
    "ID, Absolute_Ezgal_R_Salp, Uncertainty_Salp = np.loadtxt('All_C4_ID_LumEzgal_Uncertainty_Salp_point008_all_ADD50_Feb28.txt',unpack=True)"
   ]
  },
  {
   "cell_type": "code",
   "execution_count": 127,
   "metadata": {},
   "outputs": [],
   "source": [
    "import ezgal\n",
    "\n",
    "\n",
    "met = [0.008]\n",
    "\n",
    "formation = 4.9\n",
    "\n",
    "model=ezgal.ezgal('bc03_ssp_z_0.008_salp.model')\n",
    "model.set_cosmology(Om=0.3, Ol=0.7, h=0.7, w=-1)\n",
    "model.add_filter('sloan_g')\n",
    "model.add_filter('sloan_r')\n",
    "model.add_filter('sloan_i')\n",
    "zf=formation\n",
    "\n",
    "\n",
    "Mass_salp=np.zeros(len(redshift))\n",
    "Mass_salp_upper=np.zeros(len(redshift))\n",
    "Mass_salp_lower=np.zeros(len(redshift))\n",
    "\n",
    "Gezgal=np.zeros(len(redshift))\n",
    "Rezgal=np.zeros(len(redshift))\n",
    "Iezgal=np.zeros(len(redshift))\n",
    "Chi_squared_salp=np.zeros(len(redshift))\n",
    "\n",
    "\n",
    "for j in range(len(redshift)):\n",
    "    zs=redshift[j]\n",
    "    model.set_normalization('sloan_r',redshift[j],Absolute_Ezgal_R_Salp[j],apparent=False)    \n",
    "    Mass=model.get_masses(formation,redshift[j])*(model.get_normalization(formation,flux=True))\n",
    "    Mass_salp[j] = np.log10(Mass[0][0])\n",
    "    Gezgal=(zs,model.get_apparent_mags(zf=formation,filters='sloan_g',zs=zs))[1]\n",
    "    Rezgal=(zs,model.get_apparent_mags(zf=formation,filters='sloan_r',zs=zs))[1]\n",
    "    Iezgal=(zs,model.get_apparent_mags(zf=formation,filters='sloan_i',zs=zs))[1]\n",
    "    Chi_squared_salp[j]=(((G_50[j]-Gezgal)/Gerr[j])**2 + ((R_50[j]-Rezgal)/Rerr[j])**2 + ((I_50[j]-Iezgal)/Ierr[j])**2)\n",
    "    \n",
    "    \n",
    "# In this code, I use the same Ezgal model and then set the absolute magnitude that best fit from the chi-squared as the normalization\n",
    "# Then I get the Stellar mass as the output (as well as the chi_squared so I can remove outliers)\n",
    "# The chi-squared is usually gaussian like.  I usually throw out everything worse than 1 sigma from the median chi-squared\n",
    "\n",
    "\n",
    "\n",
    "\n"
   ]
  },
  {
   "cell_type": "code",
   "execution_count": null,
   "metadata": {},
   "outputs": [],
   "source": []
  },
  {
   "cell_type": "code",
   "execution_count": null,
   "metadata": {},
   "outputs": [],
   "source": []
  }
 ],
 "metadata": {
  "kernelspec": {
   "display_name": "Python 2",
   "language": "python",
   "name": "python2"
  },
  "language_info": {
   "codemirror_mode": {
    "name": "ipython",
    "version": 2
   },
   "file_extension": ".py",
   "mimetype": "text/x-python",
   "name": "python",
   "nbconvert_exporter": "python",
   "pygments_lexer": "ipython2",
   "version": "2.7.16"
  }
 },
 "nbformat": 4,
 "nbformat_minor": 2
}
